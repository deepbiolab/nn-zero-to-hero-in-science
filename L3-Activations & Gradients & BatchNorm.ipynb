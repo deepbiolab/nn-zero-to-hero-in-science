{
 "cells": [
  {
   "cell_type": "code",
   "execution_count": 14,
   "id": "2e923118",
   "metadata": {},
   "outputs": [],
   "source": [
    "import torch\n",
    "import torch.nn.functional as F\n",
    "import matplotlib.pyplot as plt\n",
    "import seaborn as sns\n",
    "%matplotlib inline"
   ]
  },
  {
   "cell_type": "code",
   "execution_count": 46,
   "id": "caa79084",
   "metadata": {},
   "outputs": [
    {
     "name": "stdout",
     "output_type": "stream",
     "text": [
      "Total:  121679\n"
     ]
    }
   ],
   "source": [
    "# import data and extract FRH1 region\n",
    "import pandas as pd\n",
    "words = pd.read_csv('oas_pair_heavy.csv', usecols=['fwr1_aa_heavy'])['fwr1_aa_heavy'].tolist()\n",
    "print('Total: ', len(words))"
   ]
  },
  {
   "cell_type": "code",
   "execution_count": 47,
   "id": "5d8a67cc",
   "metadata": {},
   "outputs": [
    {
     "name": "stdout",
     "output_type": "stream",
     "text": [
      "Most frequent length: \n",
      " [(25, 119394), (24, 1473), (23, 234), (22, 195), (15, 144), (16, 47), (18, 28), (8, 27), (21, 27), (20, 22), (12, 8), (11, 8), (17, 7), (26, 7), (14, 6), (19, 6), (6, 6), (9, 5), (3, 5), (29, 4), (7, 4), (13, 3), (28, 3), (30, 3), (27, 3), (10, 3), (5, 2), (2, 2), (32, 2), (1, 1)]\n"
     ]
    },
    {
     "data": {
      "image/png": "[encoded data removed]",
      "text/plain": [
       "<Figure size 640x480 with 1 Axes>"
      ]
     },
     "metadata": {},
     "output_type": "display_data"
    }
   ],
   "source": [
    "# visualize the length distribution of FRH1 region\n",
    "from collections import Counter\n",
    "length = list(map(lambda s: len(s), words))\n",
    "len_cnt = Counter(length)\n",
    "print(\"Most frequent length: \\n\", len_cnt.most_common(50))\n",
    "\n",
    "sns.histplot(length)\n",
    "plt.ylim((0, 1000));"
   ]
  },
  {
   "cell_type": "code",
   "execution_count": 73,
   "id": "552e1c8a",
   "metadata": {},
   "outputs": [
    {
     "name": "stdout",
     "output_type": "stream",
     "text": [
      "Vocab size: 21\n"
     ]
    }
   ],
   "source": [
    "# build the vocabulary of characters and mapping to/from integers\n",
    "chars = sorted(list(set(\"\".join(words))))\n",
    "stoi = {s: i+1 for i, s in enumerate(chars)}\n",
    "stoi['.'] = 0\n",
    "itos = {i: s for s, i in stoi.items()}\n",
    "vocab_size = len(stoi)\n",
    "print(f\"Vocab size: {vocab_size}\")"
   ]
  },
  {
   "cell_type": "code",
   "execution_count": 98,
   "id": "e619424e",
   "metadata": {},
   "outputs": [
    {
     "name": "stdout",
     "output_type": "stream",
     "text": [
      "torch.Size([2526217, 3]) torch.Size([2526217])\n",
      "torch.Size([315654, 3]) torch.Size([315654])\n",
      "torch.Size([315647, 3]) torch.Size([315647])\n"
     ]
    }
   ],
   "source": [
    "# build the dataset:\n",
    "#  given a word:\n",
    "#   ...           -> <initToken>\n",
    "#   ..<initToken> -> <nextToken>\n",
    "\n",
    "block_size = 3\n",
    "def build_datasets(words):\n",
    "    X, Y = [], []\n",
    "    for w in words:\n",
    "        context = [0]*block_size\n",
    "        for ch in w+'.':\n",
    "            ix = stoi[ch]\n",
    "            X.append(context)\n",
    "            Y.append(ix)\n",
    "            context = context[1:] + [ix]\n",
    "    X = torch.tensor(X)\n",
    "    Y = torch.tensor(Y)\n",
    "    print(X.shape, Y.shape)\n",
    "    return X, Y\n",
    "\n",
    "import random\n",
    "random.seed(42)\n",
    "random.shuffle(words)\n",
    "\n",
    "n1 = int(0.8 * len(words))\n",
    "n2 = int(0.9 * len(words))\n",
    "\n",
    "Xtr, Ytr = build_datasets(words[:n1])      # 80%\n",
    "Xdev, Ydev = build_datasets(words[n1:n2])  # 10%\n",
    "Xte, Yte = build_datasets(words[n2:])      # 10%"
   ]
  },
  {
   "cell_type": "code",
   "execution_count": 106,
   "id": "22086bb1",
   "metadata": {},
   "outputs": [
    {
     "name": "stdout",
     "output_type": "stream",
     "text": [
      "Total Params: 10631\n"
     ]
    }
   ],
   "source": [
    "# MLP on language model\n",
    "n_emb = 10\n",
    "n_hidden = 200\n",
    "\n",
    "g = torch.Generator().manual_seed(211111)\n",
    "C = torch.randn(vocab_size, n_emb, generator=g)\n",
    "W1 = torch.randn(n_emb * block_size, n_hidden, generator=g)\n",
    "b1 = torch.randn(n_hidden, generator=g)\n",
    "W2 = torch.randn(n_hidden, vocab_size, generator=g)\n",
    "b2 = torch.randn(vocab_size, generator=g)\n",
    "\n",
    "parameters = [C, W1, b1, W2, b2]\n",
    "total_params = sum(p.nelement() for p in parameters)\n",
    "print(f\"Total Params: {total_params}\")\n",
    "for p in parameters:\n",
    "    p.requires_grad = True"
   ]
  },
  {
   "cell_type": "code",
   "execution_count": 107,
   "id": "7e37f74a",
   "metadata": {
    "scrolled": true
   },
   "outputs": [
    {
     "name": "stdout",
     "output_type": "stream",
     "text": [
      "      0/ 200000: 27.095863\n",
      "  10000/ 200000: 0.635668\n",
      "  20000/ 200000: 1.310582\n",
      "  30000/ 200000: 0.446442\n",
      "  40000/ 200000: 0.133136\n",
      "  50000/ 200000: 0.344694\n",
      "  60000/ 200000: 0.442541\n",
      "  70000/ 200000: 0.200916\n",
      "  80000/ 200000: 0.714425\n",
      "  90000/ 200000: 0.540146\n",
      " 100000/ 200000: 0.625981\n",
      " 110000/ 200000: 0.457763\n",
      " 120000/ 200000: 0.539262\n",
      " 130000/ 200000: 0.472000\n",
      " 140000/ 200000: 0.313520\n",
      " 150000/ 200000: 0.203381\n",
      " 160000/ 200000: 0.599172\n",
      " 170000/ 200000: 0.630270\n",
      " 180000/ 200000: 0.535888\n",
      " 190000/ 200000: 0.612293\n"
     ]
    }
   ],
   "source": [
    "batch_size = 32\n",
    "max_steps = 200000\n",
    "lossi = []\n",
    "\n",
    "for i in range(max_steps):\n",
    "    \n",
    "    # mini batch\n",
    "    ix = torch.randint(0, Xtr.shape[0], (batch_size,), generator=g)\n",
    "    Xb, Yb = Xtr[ix], Ytr[ix] # shape: b, l\n",
    "    \n",
    "    # forward pass\n",
    "    emb = C[Xb] # shape: b, l, c\n",
    "    emb = emb.view(emb.shape[0], -1) # shape: b, l*c\n",
    "    h = emb @ W1 + b1 # shape: b, h\n",
    "    h = torch.tanh(h) # shape: b, h\n",
    "    logits = h @ W2 + b2 # shape: b, n\n",
    "    loss = F.cross_entropy(logits, Yb)\n",
    "    \n",
    "    # backward pass\n",
    "    for p in parameters:\n",
    "        p.grad = None\n",
    "    \n",
    "    loss.backward()\n",
    "    \n",
    "    # update params\n",
    "    lr = 0.1 if i < 10000 else 0.01\n",
    "    for p in parameters:\n",
    "        p.data += -lr * p.grad\n",
    "    \n",
    "    # track progress\n",
    "    if i % 10000 == 0:\n",
    "        print(f\"{i:7d}/{max_steps:7d}: {loss.item():4f}\")\n",
    "    lossi.append(loss.log10().item())"
   ]
  },
  {
   "cell_type": "code",
   "execution_count": 111,
   "id": "b83e7fe9",
   "metadata": {},
   "outputs": [
    {
     "data": {
      "text/plain": [
       "[<matplotlib.lines.Line2D at 0x2a7087610>]"
      ]
     },
     "execution_count": 111,
     "metadata": {},
     "output_type": "execute_result"
    },
    {
     "data": {
      "image/png": "[encoded data removed]",
      "text/plain": [
       "<Figure size 640x480 with 1 Axes>"
      ]
     },
     "metadata": {},
     "output_type": "display_data"
    }
   ],
   "source": [
    "plt.plot(lossi)"
   ]
  },
  {
   "cell_type": "code",
   "execution_count": 110,
   "id": "e37fe6b4",
   "metadata": {},
   "outputs": [
    {
     "name": "stdout",
     "output_type": "stream",
     "text": [
      "train 0.5300440192222595\n",
      "val 0.5323950052261353\n"
     ]
    }
   ],
   "source": [
    "@torch.no_grad()\n",
    "def split_loss(split):\n",
    "    x, y = {\n",
    "        'train': (Xtr, Ytr),\n",
    "        'val': (Xdev, Ydev),\n",
    "        'test': (Xte, Yte)\n",
    "    }[split]\n",
    "    \n",
    "    emb = C[x]\n",
    "    emb = emb.view(emb.shape[0], -1)\n",
    "    h = torch.tanh(emb @ W1 + b1)\n",
    "    logits = h @ W2 + b2\n",
    "    loss = F.cross_entropy(logits, y)\n",
    "    print(split, loss.item())\n",
    "\n",
    "split_loss('train')\n",
    "split_loss('val')"
   ]
  },
  {
   "cell_type": "code",
   "execution_count": 114,
   "id": "f5437434",
   "metadata": {},
   "outputs": [
    {
     "name": "stdout",
     "output_type": "stream",
     "text": [
      "QVQLVESGGGLVQPKGS.\n",
      "QVQLVESGPELVKPTQTLSLTCTFS.\n",
      "QVQLKESGPGLVQPGNSLKLSCKAS.\n",
      "DVQLKESGGGLVKPGGSLRLSCAAS.\n",
      "EVQLVESGGGLVQPGGSLRLSCAAS.\n",
      "EVKKPGASVKISCAAS.\n",
      "QVQLVESGGGLVKPGASVKLSCKAS.\n",
      "EVQLQESGPGMLQPSQTLLRPSETLSLTCTVS.\n",
      "QVQLQQPGRSLKLSCVAS.\n",
      "EVQLKESGPGLVQSGAALVKPSETLSLTCTVS.\n",
      "EVQLQQSGPELKKPGGSMKLSCAAS.\n",
      "QVQMEGPGLVQPGASVKLVESGPGLVQSGAELVKPGASVKISCKAS.\n",
      "QVQQLQQSGPVLVKPGASVRISCKAS.\n",
      "QVQLQESGPGLVKPSQSLSITCTFS.\n",
      "EVQLVESGGGLVQSGAELVKPSQSLSITCTVS.\n",
      "QVQLQESGGGLVQPGQSLSLTCTVS.\n",
      "QIQLVESGGGLVKPGSSLKLSCAAS.\n",
      "EVQLLESGGGVVQPSQSLSLTCTVT.\n",
      "QITLKESGGGLVQSGPGLVQSGAELAKPGSSLKLSCAAS.\n",
      "EVQLKESGPVLVKPGSSVKLVESGPELKKPGAELVKPGASVNLLQSGPGILQPSETLSLTCAVY.\n"
     ]
    }
   ],
   "source": [
    "g = torch.Generator().manual_seed(211111 + 10)\n",
    "\n",
    "for _ in range(20):\n",
    "    \n",
    "    out = []\n",
    "    context = [0] * block_size\n",
    "    \n",
    "    while True:\n",
    "        emb = C[torch.tensor([context])] # 1, l, c\n",
    "        h = torch.tanh(emb.view(1, -1) @ W1 + b1)\n",
    "        logits = h @ W2 + b2\n",
    "        probs = F.softmax(logits, dim=1)\n",
    "\n",
    "        # sample\n",
    "        ix = torch.multinomial(probs, num_samples=1, generator=g).item()\n",
    "        context = context[1:] + [ix]\n",
    "        out.append(ix)\n",
    "        \n",
    "        if ix == 0:\n",
    "            break\n",
    "    print(''.join(itos[i] for i in out))"
   ]
  },
  {
   "cell_type": "code",
   "execution_count": null,
   "id": "9e016b87",
   "metadata": {},
   "outputs": [],
   "source": []
  }
 ],
 "metadata": {
  "kernelspec": {
   "display_name": "Python 3 (ipykernel)",
   "language": "python",
   "name": "python3"
  },
  "language_info": {
   "codemirror_mode": {
    "name": "ipython",
    "version": 3
   },
   "file_extension": ".py",
   "mimetype": "text/x-python",
   "name": "python",
   "nbconvert_exporter": "python",
   "pygments_lexer": "ipython3",
   "version": "3.8.15"
  }
 },
 "nbformat": 4,
 "nbformat_minor": 5
}
