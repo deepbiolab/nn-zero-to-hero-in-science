{
 "cells": [
  {
   "cell_type": "code",
   "execution_count": 26,
   "id": "7b40b7d2",
   "metadata": {},
   "outputs": [],
   "source": [
    "import torch\n",
    "import torch.nn.functional as F\n",
    "import matplotlib.pyplot as plt\n",
    "%matplotlib inline"
   ]
  },
  {
   "cell_type": "code",
   "execution_count": 27,
   "id": "1774f86f",
   "metadata": {},
   "outputs": [],
   "source": [
    "import pandas as pd\n",
    "\n",
    "words = pd.read_csv('oas_pair_heavy.csv', usecols=['fwr1_aa_heavy'])['fwr1_aa_heavy'].tolist()\n",
    "# words = open('names.txt', 'r').read().splitlines()"
   ]
  },
  {
   "cell_type": "code",
   "execution_count": 28,
   "id": "ec7555f7",
   "metadata": {},
   "outputs": [
    {
     "data": {
      "text/plain": [
       "121679"
      ]
     },
     "execution_count": 28,
     "metadata": {},
     "output_type": "execute_result"
    }
   ],
   "source": [
    "len(words)"
   ]
  },
  {
   "cell_type": "code",
   "execution_count": 29,
   "id": "06231c69",
   "metadata": {},
   "outputs": [],
   "source": [
    "stoi = {s: i+1 for i, s in enumerate(sorted(set(list(''.join(words)))))}\n",
    "stoi['.'] = 0\n",
    "itos = {i: s for s, i in stoi.items()}"
   ]
  },
  {
   "cell_type": "code",
   "execution_count": null,
   "id": "5916e1bd",
   "metadata": {},
   "outputs": [],
   "source": []
  },
  {
   "cell_type": "code",
   "execution_count": 5,
   "id": "2580f071",
   "metadata": {
    "scrolled": true
   },
   "outputs": [],
   "source": [
    "# build dataset\n",
    "block_size = 3\n",
    "X = []\n",
    "Y = []\n",
    "\n",
    "for w in words:\n",
    "    context = [0] * block_size\n",
    "    for ch in w+'.':\n",
    "        ix = stoi[ch]\n",
    "        X.append(context)\n",
    "        Y.append(ix)\n",
    "#         print(f\"{''.join(itos[i] for i in context)}--->{ch}\")\n",
    "        context = context[1:] + [ix]\n",
    "\n",
    "X = torch.tensor(X)\n",
    "Y = torch.tensor(Y)"
   ]
  },
  {
   "cell_type": "code",
   "execution_count": 30,
   "id": "bc6bf6c2",
   "metadata": {},
   "outputs": [],
   "source": [
    "def build_dataset(words):\n",
    "    # build dataset\n",
    "    block_size = 3\n",
    "    X = []\n",
    "    Y = []\n",
    "\n",
    "    for w in words:\n",
    "        context = [0] * block_size\n",
    "        for ch in w+'.':\n",
    "            ix = stoi[ch]\n",
    "            X.append(context)\n",
    "            Y.append(ix)\n",
    "    #         print(f\"{''.join(itos[i] for i in context)}--->{ch}\")\n",
    "            context = context[1:] + [ix]\n",
    "    X = torch.tensor(X)\n",
    "    Y = torch.tensor(Y)\n",
    "    return X, Y\n",
    "\n",
    "import random\n",
    "random.seed(42)\n",
    "random.shuffle(words)\n",
    "\n",
    "n1 = int(0.8*len(words))\n",
    "n2 = int(0.9*len(words))\n",
    "\n",
    "Xtr, Ytr = build_dataset(words[:n1])\n",
    "Xdev, Ydev = build_dataset(words[n1:n2])\n",
    "Xte, Yte = build_dataset(words[n2:])"
   ]
  },
  {
   "cell_type": "code",
   "execution_count": 31,
   "id": "a51c2ba0",
   "metadata": {},
   "outputs": [
    {
     "data": {
      "text/plain": [
       "torch.Size([2526147, 3])"
      ]
     },
     "execution_count": 31,
     "metadata": {},
     "output_type": "execute_result"
    }
   ],
   "source": [
    "Xtr.shape"
   ]
  },
  {
   "cell_type": "code",
   "execution_count": 8,
   "id": "323584bc",
   "metadata": {},
   "outputs": [],
   "source": [
    "vocab_size = len(stoi)"
   ]
  },
  {
   "cell_type": "code",
   "execution_count": 9,
   "id": "28949caa",
   "metadata": {},
   "outputs": [],
   "source": [
    "C = torch.randn(vocab_size, 2)"
   ]
  },
  {
   "cell_type": "code",
   "execution_count": 10,
   "id": "88270a5a",
   "metadata": {},
   "outputs": [
    {
     "data": {
      "text/plain": [
       "torch.Size([21, 2])"
      ]
     },
     "execution_count": 10,
     "metadata": {},
     "output_type": "execute_result"
    }
   ],
   "source": [
    "C.shape"
   ]
  },
  {
   "cell_type": "code",
   "execution_count": 11,
   "id": "13802893",
   "metadata": {},
   "outputs": [
    {
     "data": {
      "text/plain": [
       "tensor([[-1.9662, -0.9387]])"
      ]
     },
     "execution_count": 11,
     "metadata": {},
     "output_type": "execute_result"
    }
   ],
   "source": [
    "F.one_hot(torch.tensor([5]), num_classes=21).float() @ C"
   ]
  },
  {
   "cell_type": "code",
   "execution_count": 12,
   "id": "767a2aaf",
   "metadata": {},
   "outputs": [
    {
     "data": {
      "text/plain": [
       "torch.Size([3157518, 3])"
      ]
     },
     "execution_count": 12,
     "metadata": {},
     "output_type": "execute_result"
    }
   ],
   "source": [
    "X.shape"
   ]
  },
  {
   "cell_type": "code",
   "execution_count": 13,
   "id": "6f1efc62",
   "metadata": {},
   "outputs": [
    {
     "data": {
      "text/plain": [
       "torch.Size([3157518, 3, 2])"
      ]
     },
     "execution_count": 13,
     "metadata": {},
     "output_type": "execute_result"
    }
   ],
   "source": [
    "emb = C[X]\n",
    "emb.shape"
   ]
  },
  {
   "cell_type": "code",
   "execution_count": 14,
   "id": "a9c7aff6",
   "metadata": {},
   "outputs": [],
   "source": [
    "W1 = torch.randn((6, 100))\n",
    "b1 = torch.randn(100)"
   ]
  },
  {
   "cell_type": "code",
   "execution_count": 15,
   "id": "9ac241ce",
   "metadata": {
    "scrolled": true
   },
   "outputs": [],
   "source": [
    "h = torch.tanh(emb.view(X.shape[0], -1) @ W1 + b1)"
   ]
  },
  {
   "cell_type": "code",
   "execution_count": 16,
   "id": "eb97635c",
   "metadata": {},
   "outputs": [
    {
     "data": {
      "text/plain": [
       "torch.Size([3157518, 100])"
      ]
     },
     "execution_count": 16,
     "metadata": {},
     "output_type": "execute_result"
    }
   ],
   "source": [
    "h.shape"
   ]
  },
  {
   "cell_type": "code",
   "execution_count": 17,
   "id": "6fc0138c",
   "metadata": {},
   "outputs": [
    {
     "data": {
      "text/plain": [
       "tensor([[-0.9952,  0.9985, -0.2704,  ..., -0.7486,  0.9843, -0.7938],\n",
       "        [ 0.6687,  0.0399, -0.9980,  ..., -0.4903,  0.9992,  0.9986],\n",
       "        [ 0.6868, -0.9618, -0.9999,  ...,  0.9993,  0.9777, -0.9997],\n",
       "        ...,\n",
       "        [ 0.9308, -0.2319, -0.9598,  ...,  0.7059,  0.7436, -0.8896],\n",
       "        [ 0.3084, -0.9647, -0.8416,  ...,  0.9925,  0.9972, -0.9999],\n",
       "        [-0.9993,  0.9850,  0.9998,  ..., -0.7958,  0.9420, -0.9999]])"
      ]
     },
     "execution_count": 17,
     "metadata": {},
     "output_type": "execute_result"
    }
   ],
   "source": [
    "h"
   ]
  },
  {
   "cell_type": "code",
   "execution_count": 18,
   "id": "5abcb60f",
   "metadata": {},
   "outputs": [],
   "source": [
    "W2 = torch.randn(100, 21)\n",
    "b2 = torch.randn(21)"
   ]
  },
  {
   "cell_type": "code",
   "execution_count": 19,
   "id": "ad902818",
   "metadata": {},
   "outputs": [],
   "source": [
    "logits = F.softmax(h @ W2 + b2, dim=1)"
   ]
  },
  {
   "cell_type": "code",
   "execution_count": 20,
   "id": "4443fcbf",
   "metadata": {},
   "outputs": [
    {
     "data": {
      "text/plain": [
       "torch.Size([3157518, 21])"
      ]
     },
     "execution_count": 20,
     "metadata": {},
     "output_type": "execute_result"
    }
   ],
   "source": [
    "logits.shape"
   ]
  },
  {
   "cell_type": "code",
   "execution_count": 21,
   "id": "6f175687",
   "metadata": {},
   "outputs": [],
   "source": [
    "counts = logits.exp()"
   ]
  },
  {
   "cell_type": "code",
   "execution_count": 22,
   "id": "57a0c0fe",
   "metadata": {},
   "outputs": [],
   "source": [
    "prob = counts / counts.sum(1, keepdims=True)"
   ]
  },
  {
   "cell_type": "code",
   "execution_count": 23,
   "id": "5b163805",
   "metadata": {},
   "outputs": [
    {
     "data": {
      "text/plain": [
       "tensor([[0.0440, 0.0440, 0.1197,  ..., 0.0440, 0.0440, 0.0440],\n",
       "        [0.0448, 0.0448, 0.0597,  ..., 0.0448, 0.0448, 0.0889],\n",
       "        [0.0441, 0.0441, 0.0440,  ..., 0.0440, 0.0440, 0.0440],\n",
       "        ...,\n",
       "        [0.0442, 0.0442, 0.0442,  ..., 0.0442, 0.0442, 0.0442],\n",
       "        [0.0448, 0.0580, 0.0448,  ..., 0.0448, 0.0448, 0.0448],\n",
       "        [0.0443, 0.0443, 0.1092,  ..., 0.0443, 0.0443, 0.0443]])"
      ]
     },
     "execution_count": 23,
     "metadata": {},
     "output_type": "execute_result"
    }
   ],
   "source": [
    "prob"
   ]
  },
  {
   "cell_type": "code",
   "execution_count": 24,
   "id": "b03e89e3",
   "metadata": {},
   "outputs": [
    {
     "data": {
      "text/plain": [
       "torch.Size([3157518, 21])"
      ]
     },
     "execution_count": 24,
     "metadata": {},
     "output_type": "execute_result"
    }
   ],
   "source": [
    "prob.shape"
   ]
  },
  {
   "cell_type": "code",
   "execution_count": 25,
   "id": "9247ce5a",
   "metadata": {},
   "outputs": [
    {
     "ename": "IndexError",
     "evalue": "shape mismatch: indexing tensors could not be broadcast together with shapes [78], [3157518]",
     "output_type": "error",
     "traceback": [
      "\u001b[0;31m---------------------------------------------------------------------------\u001b[0m",
      "\u001b[0;31mIndexError\u001b[0m                                Traceback (most recent call last)",
      "Cell \u001b[0;32mIn[25], line 1\u001b[0m\n\u001b[0;32m----> 1\u001b[0m loss \u001b[38;5;241m=\u001b[39m \u001b[38;5;241m-\u001b[39m\u001b[43mprob\u001b[49m\u001b[43m[\u001b[49m\u001b[43mtorch\u001b[49m\u001b[38;5;241;43m.\u001b[39;49m\u001b[43marange\u001b[49m\u001b[43m(\u001b[49m\u001b[38;5;241;43m78\u001b[39;49m\u001b[43m)\u001b[49m\u001b[43m,\u001b[49m\u001b[43m \u001b[49m\u001b[43mY\u001b[49m\u001b[43m]\u001b[49m\u001b[38;5;241m.\u001b[39mlog()\u001b[38;5;241m.\u001b[39mmean()\n",
      "\u001b[0;31mIndexError\u001b[0m: shape mismatch: indexing tensors could not be broadcast together with shapes [78], [3157518]"
     ]
    }
   ],
   "source": [
    "loss = -prob[torch.arange(78), Y].log().mean()"
   ]
  },
  {
   "cell_type": "code",
   "execution_count": null,
   "id": "140ed151",
   "metadata": {},
   "outputs": [],
   "source": [
    "# ------------ now made respectable ----------------"
   ]
  },
  {
   "cell_type": "code",
   "execution_count": 32,
   "id": "03042c35",
   "metadata": {},
   "outputs": [
    {
     "data": {
      "text/plain": [
       "(torch.Size([2526147, 3]), torch.Size([2526147]))"
      ]
     },
     "execution_count": 32,
     "metadata": {},
     "output_type": "execute_result"
    }
   ],
   "source": [
    "# Datasets\n",
    "Xtr.shape, Ytr.shape"
   ]
  },
  {
   "cell_type": "code",
   "execution_count": 33,
   "id": "c9900c92",
   "metadata": {},
   "outputs": [],
   "source": [
    "g = torch.Generator().manual_seed(2147483647) # for reproducibility\n",
    "C = torch.randn(21, 5, generator=g)\n",
    "W1 = torch.randn(15, 500, generator=g)\n",
    "b1 = torch.randn(500, generator=g)\n",
    "W2 = torch.randn(500, 21, generator=g)\n",
    "b2 = torch.randn(21, generator=g)\n",
    "parameters = [C, W1, b1, W2, b2]\n",
    "\n",
    "for p in parameters:\n",
    "    p.requires_grad = True"
   ]
  },
  {
   "cell_type": "code",
   "execution_count": 34,
   "id": "ee20d470",
   "metadata": {},
   "outputs": [
    {
     "data": {
      "text/plain": [
       "18626"
      ]
     },
     "execution_count": 34,
     "metadata": {},
     "output_type": "execute_result"
    }
   ],
   "source": [
    "sum(p.nelement() for p in parameters)"
   ]
  },
  {
   "cell_type": "code",
   "execution_count": 35,
   "id": "a33f0b77",
   "metadata": {},
   "outputs": [],
   "source": [
    "lre = 10 ** (torch.linspace(-3, 0, 1000))\n",
    "\n",
    "lri = []\n",
    "lossi = []\n",
    "stepi = []"
   ]
  },
  {
   "cell_type": "code",
   "execution_count": 36,
   "id": "ecf5e71f",
   "metadata": {},
   "outputs": [],
   "source": [
    "for i in range(1000):\n",
    "    ix = torch.randint(0, Xtr.shape[0], (256, ))\n",
    "    # forward pass\n",
    "    emb = C[Xtr[ix]]\n",
    "    h = torch.tanh(emb.view(-1, 15) @ W1 + b1)\n",
    "    logits = h @ W2 + b2\n",
    "    loss = F.cross_entropy(logits, Ytr[ix])\n",
    "#     print(loss.item())\n",
    "\n",
    "    # backward\n",
    "    for p in parameters:\n",
    "        p.grad = None\n",
    "    loss.backward()\n",
    "\n",
    "    for p in parameters:\n",
    "        p.data += -0.15*p.grad\n",
    "    \n",
    "    # Track\n",
    "    lossi.append(loss.log10().item())\n",
    "#     lri.append(lre[i])\n",
    "    stepi.append(i)\n"
   ]
  },
  {
   "cell_type": "code",
   "execution_count": 37,
   "id": "30c7b56d",
   "metadata": {},
   "outputs": [
    {
     "data": {
      "text/plain": [
       "[<matplotlib.lines.Line2D at 0x17b7223a0>]"
      ]
     },
     "execution_count": 37,
     "metadata": {},
     "output_type": "execute_result"
    },
    {
     "data": {
      "image/png": "[encoded data removed]",
      "text/plain": [
       "<Figure size 640x480 with 1 Axes>"
      ]
     },
     "metadata": {},
     "output_type": "display_data"
    }
   ],
   "source": [
    "plt.plot(stepi, lossi)\n",
    "# plt.xlim(0, 0.2)\n",
    "# plt.ylim(0, 2.5)"
   ]
  },
  {
   "cell_type": "code",
   "execution_count": 38,
   "id": "77666073",
   "metadata": {
    "scrolled": true
   },
   "outputs": [
    {
     "data": {
      "text/plain": [
       "torch.return_types.max(\n",
       "values=tensor([20.2826, 22.2618, 25.3557, 21.5193, 18.5515, 21.4971,  2.1849, 16.5926,\n",
       "        12.4410, 15.3406, 21.5193, 14.0725, 13.7521,  6.2140, 23.5258, 25.9754,\n",
       "        18.6585, 14.4361, 14.0406, 19.0929, 34.9041, 15.3868, 20.8631, 23.8114,\n",
       "        25.2047,  8.9839, 31.7261, 14.4361, 31.4585, 14.0406, 19.4081, 16.5170,\n",
       "        34.9041, 10.3416, 25.3557, 14.2359, 21.5193, 23.6144, 22.6510, 27.9597,\n",
       "        22.2618, 21.4435, 27.3258, 14.0406, 19.3699, 18.4634, 19.1508, 13.9275,\n",
       "         8.0368, 12.4410, 16.5170,  6.2140, 10.7754, 18.6585, 22.6510, 18.2829,\n",
       "        31.4585,  3.0573, 20.4667, 11.0004, 31.4585, 16.6026, 18.5515, 18.4634,\n",
       "        14.0406, 21.2240, 21.0589, 15.3868, 27.9597, 19.0929, 25.9754, 13.8194,\n",
       "        23.6144, 19.9063, 16.3996, 15.4952, 15.3406, 13.7521, 15.3406, 15.2496,\n",
       "        15.6048, 21.6338, 12.8618, 25.1142, 16.5170, 18.6585, 14.3264, 17.5559,\n",
       "        22.4480, 14.3264, 14.3293, 34.9041, 14.1702, 23.9770,  6.2140, 15.5534,\n",
       "        23.1594, 20.2826, 21.6338, 31.7261, 15.7369, 24.7287, 18.6585, 34.9041,\n",
       "        15.6004, 17.5017, 21.0589, 12.0284, 16.9446, 18.9795, 18.7041, 19.1508,\n",
       "        26.8321, 23.5078, 13.7521, 16.6422, 16.3360, 12.0284, 14.4361, 18.5515,\n",
       "         2.1849, 16.3360, 20.5694, 16.3360, 26.4123, 25.3557, 30.7020, 20.9440,\n",
       "        16.6026, 20.2826, 11.2582, 21.0904, 17.7810, 20.0101, 14.0406, 17.9543,\n",
       "        18.5571, 11.2582, 14.0406, 29.9643, 19.0539, 20.0101, 15.8660, 15.8660,\n",
       "        17.9543, 29.3210, 15.2496, 12.4410,  8.9839, 13.7521, 15.8003, 14.1702,\n",
       "        28.1212, 11.7109, 16.0592, 20.8631, 18.5515, 20.0101, 12.4410, 30.5919,\n",
       "        20.5624, 18.6585, 15.7369, 22.6367, 27.9597, 22.6367, 31.4585, 25.3557,\n",
       "        19.0929, 18.5571,  2.1849, 26.4123, 34.9041, 25.6278, 19.2110, 20.8631,\n",
       "        18.3075, 17.5559, 16.3360, 13.1733, 12.4410, 19.8128, 16.3360, 34.9041,\n",
       "        18.6585, 31.8153, 23.8718, 20.1695, 17.9543, 19.1909, 13.7521, 16.4860,\n",
       "        13.7521, 21.2240, 14.3264, 12.4410, 16.3360, 19.3699, 20.5694, 15.8660,\n",
       "        18.3075, 11.3521, 16.5170, 13.7521, 15.5534, 15.8660, 25.2047, 19.3699,\n",
       "        16.6026, 14.0406, 17.0896, 14.2540, 21.6338, 27.9597, 15.7369, 16.3360,\n",
       "        16.6026,  8.4533, 10.9189, 19.0929, 13.7521, 12.4410, 15.8660, 14.2359,\n",
       "        16.9870, 15.5534, 15.8660, 18.4634, 14.2359, 34.9041, 21.2240, 19.3699,\n",
       "        16.4056, 15.3406, 16.5170, 18.2829, 11.8408, 16.4056, 15.3406, 18.7041,\n",
       "        16.6311, 18.6585, 25.7834, 20.0101, 25.9754, 15.2102, 14.3264, 19.3699,\n",
       "        28.1212, 22.2618,  8.9839, 14.7504, 18.5421, 16.9446, 26.7586, 19.9075],\n",
       "       grad_fn=<MaxBackward0>),\n",
       "indices=tensor([16,  0, 18, 16, 18, 16,  1, 14,  6,  1, 16,  9, 14, 17, 18, 10, 18, 14,\n",
       "         1, 13,  6, 17, 18,  6, 16,  8,  6, 14,  0,  1, 16,  6,  6,  8, 18, 10,\n",
       "        16,  9, 16,  6,  0,  6, 11,  1, 16,  6, 10, 10, 14,  6,  6, 17,  1, 18,\n",
       "        16, 17,  0,  6,  9,  7,  0, 16, 18,  6,  1,  9,  4, 17,  6, 13, 10,  4,\n",
       "         9,  9, 10, 18,  1, 14,  1, 10,  9,  2, 14, 10,  6, 18, 17, 14, 16, 17,\n",
       "        10,  6, 14, 10, 17, 13,  0, 16,  2,  6, 18,  0, 18,  6, 13, 17,  4,  4,\n",
       "         9,  1, 18, 10, 10, 16, 14, 14, 14,  4, 14, 18,  1, 14,  8, 14,  2, 18,\n",
       "        17, 13, 16, 16, 10, 18, 18, 14,  1, 10, 16, 10,  1, 16, 13, 14, 16, 16,\n",
       "        10, 14, 10,  6,  8, 14, 10, 14,  6,  2, 14, 18, 18, 14,  6,  2, 16, 18,\n",
       "        18, 18,  6, 18,  0, 18, 13, 16,  1,  2,  6, 10,  0, 18, 16, 14, 14,  9,\n",
       "         6, 16, 14,  6, 18,  0,  0,  9, 10,  9, 14,  9, 14,  9, 17,  6, 14, 16,\n",
       "         8, 16, 16, 17,  6, 14, 13, 16, 16, 16, 16,  1,  9, 18,  2,  6, 18, 14,\n",
       "        16, 14, 14, 13, 14,  6, 16, 10, 16, 13, 16,  6, 10,  6,  9, 16,  4,  1,\n",
       "         6, 17, 10,  4,  1, 18, 18, 18, 18, 14, 10, 10, 17, 16,  6,  0,  8, 17,\n",
       "         4,  9,  2, 14]))"
      ]
     },
     "execution_count": 38,
     "metadata": {},
     "output_type": "execute_result"
    }
   ],
   "source": [
    "logits.max(1)"
   ]
  },
  {
   "cell_type": "code",
   "execution_count": 124,
   "id": "9dcd9eee",
   "metadata": {},
   "outputs": [
    {
     "data": {
      "text/plain": [
       "tensor([14, 18, 14, 10,  9,  4, 16,  6, 13,  6, 10, 18, 14, 13, 16, 14, 17, 10,\n",
       "        16, 10, 17,  2, 17, 18, 16,  0, 14, 18, 14, 10, 14, 14, 16,  6,  1,  4,\n",
       "        10, 17,  9, 13,  6, 16, 16, 18,  9,  8, 16,  2,  9,  1, 16,  0,  4, 18,\n",
       "        14, 10, 14,  4, 16,  6, 13,  6, 10, 18,  9, 13, 16, 14, 16, 10, 16, 10,\n",
       "        17,  2, 16, 18, 17,  0])"
      ]
     },
     "execution_count": 124,
     "metadata": {},
     "output_type": "execute_result"
    }
   ],
   "source": [
    "Y"
   ]
  },
  {
   "cell_type": "code",
   "execution_count": 39,
   "id": "1569cf28",
   "metadata": {},
   "outputs": [
    {
     "data": {
      "text/plain": [
       "tensor(0.8815, grad_fn=<NllLossBackward0>)"
      ]
     },
     "execution_count": 39,
     "metadata": {},
     "output_type": "execute_result"
    }
   ],
   "source": [
    "# forward pass\n",
    "emb = C[Xtr]\n",
    "h = torch.tanh(emb.view(-1, 15) @ W1 + b1)\n",
    "logits = h @ W2 + b2\n",
    "loss = F.cross_entropy(logits, Ytr)\n",
    "loss"
   ]
  },
  {
   "cell_type": "code",
   "execution_count": 40,
   "id": "803ff2cf",
   "metadata": {},
   "outputs": [
    {
     "data": {
      "text/plain": [
       "tensor(0.8752, grad_fn=<NllLossBackward0>)"
      ]
     },
     "execution_count": 40,
     "metadata": {},
     "output_type": "execute_result"
    }
   ],
   "source": [
    "# forward pass\n",
    "emb = C[Xdev]\n",
    "h = torch.tanh(emb.view(-1, 15) @ W1 + b1)\n",
    "logits = h @ W2 + b2\n",
    "loss = F.cross_entropy(logits, Ydev)\n",
    "loss"
   ]
  },
  {
   "cell_type": "code",
   "execution_count": 41,
   "id": "f5e3c480",
   "metadata": {},
   "outputs": [],
   "source": [
    "ix = 0\n",
    "context = [ix]*3\n",
    "emb = C[context] # input to network: one-hot encoding\n",
    "h = torch.tanh(emb.view(-1, 15) @ W1 + b1)\n",
    "logits = h @ W2 + b2\n",
    "counts = logits.exp() # counts, equivalent to N\n",
    "probs = counts / counts.sum(axis=1, keepdim=True) # probability for predict next character"
   ]
  },
  {
   "cell_type": "code",
   "execution_count": 46,
   "id": "648bb143",
   "metadata": {},
   "outputs": [
    {
     "name": "stdout",
     "output_type": "stream",
     "text": [
      "EVQLQLTESLKLSCAAS.\n",
      "EVHLVESGGGLVQPGGSLRLSCAAS.\n",
      "EVKKPGGSLRLSCAAS.\n",
      "EVQLVESGGGLVQPSQTLSLTC.\n",
      "EVQLVESGGGLVQPGRSLKLSCAAS.\n",
      "EVHGMLQPSQSLSLTCAVY.\n",
      "EVQLVESGGGVVQPGGSLRLSCAAS.\n",
      "EVQLVESGGGVVQPGGSLRLSCAAS.\n",
      "EVQLVESGGGLVQPSETLSLTCAVY.\n",
      "EVQLVESGGGLVQPS.\n",
      "EVQLVETGGGLVQPGGSRLLESGGGLVQPGRSLRLSCEAS.\n",
      "EVQLQLQESGGGLVQPGGSLRLSCAAS.\n",
      "EVLLESGGGLVQPGGSLRLSCAAS.\n",
      "CCTISCKAS.\n",
      "EVKLEEPGGSLRLSCAAS.\n",
      "EVKLEESGGGLVRPGASVKLEESGGGLVKPSETLSLTCTVAVPRPLMLLQPSQSLSLTCTVAVPRPKNVETGGGLVQPGGSLRLSCAAS.\n",
      "EVHKLEESLKLSCAAS.\n",
      "EVKLSCAAS.\n",
      "EVKKPGVVQPGGSLRLSCAAS.\n",
      "EVQLVESGPELKKPGASVKISCAAS.\n",
      "EVQLVESGGGVVQPGRSLKLVESGGGVVQPGGSLRLSCAAS.\n",
      "EVKLEEPGRSLKLSCAAS.\n",
      "EVHLVESGGGLVQPGKSLKLSCAAS.\n",
      "EVQLVESGGGLVQPGGSLRLSCAAS.\n",
      "EVQLVESGGGLVQPGGSLRLSCAAS.\n",
      "EVKLEESGGGLVQPGGSLRLSCAAS.\n",
      "EVQLVESGGGLVQPGRSLKLSCAAS.\n",
      "EVQLVESGGGLVQPGTELVRPGASVKLVESGGGVVQPGGSLRLSCAAS.\n",
      "EVKKPGAELVRPGASVKESGGGLVQPGRSLKLSCAAS.\n",
      "EVKKPGASVKISCKAS.\n",
      "EVQLVESGGGLVQPSETLSLTCTFS.\n",
      "EVKKPGGSLRLSCATS.\n",
      "EVQLVESGGGVVQPGASVKLEESGGGLVQPGRSLKLSCKAS.\n",
      "EVKKPGASLKLSCATS.\n",
      "EVQLVESGGGVVQPGRSLRLSCAAS.\n",
      "EVQLQESGGGLVQPSQTLSLTLTCTVS.\n",
      "DVQLVESGGGLVQPGGSLRLSCKAS.\n",
      "LAEPGGSMRLSCAAS.\n",
      "EVQLVESGGGLVRPGASLKLSCAAS.\n",
      "EVIPLQLTESLRLSCAAS.\n",
      "EVKLEESGGGVVQPGGSLRLSCAAS.\n",
      "EVHLVQPGRSLKLSCAAS.\n",
      "EVQLQLQLQESGGGLVQPGGSLRLSCAAS.\n",
      "EVQLVESGGGLVQPGGSLRLSCAAS.\n",
      "QVQLVESGPELKKPGGSLRLSCAAS.\n",
      "EVQLVESGGGLVQPGRSLKLSCAAS.\n",
      "EVLVQPGGSLRLSCATS.\n",
      "EVKKPGGSLRLSCAAS.\n",
      "EVQLQESGGGLVQPGGSLRLSCAAS.\n",
      "EVQLVESGGGLVQPGGSRLLESGGGLVQPGRSLRLSCAAS.\n",
      "EVQLQLQESGGGLVQPSETLSLTCAVY.\n",
      "EVKLEESGGGLVQPGRSLKLSCAAS.\n",
      "EVQLQLTESLKLSCAAS.\n",
      "EVQLVESGGGLVQPGGSRKLSCAAS.\n",
      "DVVVETGGGVVQPGRSLRLSCAAS.\n",
      "EVQLQQSGAELVRPGASVKESGGGLVQPGGSLIVS.\n",
      "EVHLVESGGGLVQPGASVKISCKAS.\n",
      "EVKKPGASVKLSCAAS.\n",
      "EVKLSCAAS.\n",
      "EVQLVESGGGLVQPSQTLTCAVY.\n",
      "EVQLWESLKLSCAAS.\n",
      "VLESGGGLVQPGGSRLLESGGGLVQPGGSLRLSCLAS.\n",
      "EVKKPGASVKVSCKAS.\n",
      "DVQLQESGGGVVQPGGSLRLSCAAS.\n",
      "DVQLVESGGGVVQPGGSLRLSCAAS.\n",
      "EVQLQLQLQESGGGLVQPS.\n",
      "EVQLVESGGGLVKPSQTLSLTCTVS.\n",
      "EVQLQESGGGLVQPGRSLRLSCAAS.\n",
      "EVQLVESGGGLVESGGGLVQPGRSLKLSCAAS.\n",
      "EVQLVESGGGLVKPSETLTCTVRIPDSMVLSESLKLSCAAS.\n",
      "EVQLVESGGGLVQPGRSLRLSCAAS.\n",
      "EVQLQLTESLKLSCAAS.\n",
      "EVKKPGASVT.\n",
      "EVQLQESGGGLVQPGRSLRLSCAAS.\n",
      "EVQLVESGGGLVQPGAELVRPGDS.\n",
      "EVQLQLQLTESLRLSCAAS.\n",
      "EVQLQESGGGLVQPGGSLRLSCAAS.\n",
      "EVQLVESGGGVVQPGGSLRLSCAAS.\n",
      "EVQLVESGGGLVKPSETLSLTCAVY.\n",
      "EVQLVESGGGLVQPGGSLRLSCKAS.\n",
      "EVKLDNFKLSCKAS.\n",
      "EVQLQESGGGLVQPGSSVKISCKAS.\n",
      "EVQLVESGGGLVKPSETLRLSCAAS.\n",
      "EVQLVESGGGVVQPGGSLRLSCAAS.\n",
      "EVKLSCAAS.\n",
      "EVQLVESGGGLVQPGGSLRLSCATS.\n",
      "EVKLSCAAS.\n",
      "EVQLQESGGGLVQPGKSLKLSCAAS.\n",
      "EVQLQLQLTESLRLSCAAVVVETGGGLVKPSQTLSLTCTVAVPGTSVKISCKAS.\n",
      "EVQLVESGGGLIQPGGSMRLSCAAS.\n",
      "EVQLVESGGGLVRPGSSVKMSCKAS.\n",
      "EVKLEEPGGSLRLSCAAS.\n",
      "EVQLVESGGGVVQPGRSLRLSCATS.\n",
      "EVHPSETLSLTCAVY.\n",
      "EVQLVESGGGLVQLQLQESGGGLVQPGGSLRLSCLVSETLSLTCTVS.\n",
      "EVQLVESGGGVVQPSQSLSLTCTVS.\n",
      "EVQLVESGPELVRPGASVKVSCEAS.\n",
      "EVQLVESGGGLVQPGRSLRLSCAAS.\n",
      "EVQLQLQESGPGLVQPGGSLRLSCATS.\n",
      "EVQLVESGGGLVQPGGSLRLSCAAS.\n"
     ]
    }
   ],
   "source": [
    "g = torch.Generator().manual_seed(2147483647)\n",
    "\n",
    "for i in range(100):\n",
    "    out = []\n",
    "    ix = 0\n",
    "    context = [ix]*3\n",
    "    while True:\n",
    "        # ----------\n",
    "        # BEFORE\n",
    "#         p = P[ix]\n",
    "        \n",
    "        # NOW:\n",
    "        emb = C[context] # input to network: one-hot encoding\n",
    "        h = torch.tanh(emb.view(-1, 15) @ W1 + b1)\n",
    "        logits = h @ W2 + b2\n",
    "        counts = logits.exp() # counts, equivalent to N\n",
    "        probs = counts / counts.sum(axis=1, keepdim=True) # probability for predict next character\n",
    "        \n",
    "        ix = torch.multinomial(probs, num_samples=1, replacement=True, generator=g).item()\n",
    "        out.append(itos[ix])\n",
    "        if ix == 0:\n",
    "            break\n",
    "        context = context[1:] + [ix]\n",
    "\n",
    "    print(''.join(out))"
   ]
  },
  {
   "cell_type": "code",
   "execution_count": 45,
   "id": "72092895",
   "metadata": {},
   "outputs": [
    {
     "data": {
      "text/plain": [
       "['EVQLQESGPGLVKPSQSLSLTCSVT',\n",
       " 'EVKLEESGGGLVQPGGSMKLSCVAS',\n",
       " 'EVQLVESGGGLVQPGRSLKLSCLAS',\n",
       " 'AVQLVESGGGLVQPKESLKISCAAS',\n",
       " 'EVQLVESGGSLVQPGGSLKLSCVAS',\n",
       " 'QVQLKETGPGLVQPTQTLSITCTVS',\n",
       " 'QVQLVESGGGVVQPGRSLRLSCAAS',\n",
       " 'QVQLKESGPGLVQPSQTLSLTCTVS',\n",
       " 'QVTLKESGPGILQPSQTLSLTCTFS',\n",
       " 'QLQLQESGPGLVKPSETLSLTCTVS']"
      ]
     },
     "execution_count": 45,
     "metadata": {},
     "output_type": "execute_result"
    }
   ],
   "source": [
    "words[:10]"
   ]
  },
  {
   "cell_type": "code",
   "execution_count": 248,
   "id": "0c59e793",
   "metadata": {},
   "outputs": [
    {
     "data": {
      "image/png": "[encoded data removed]",
      "text/plain": [
       "<Figure size 800x800 with 1 Axes>"
      ]
     },
     "metadata": {},
     "output_type": "display_data"
    }
   ],
   "source": [
    "plt.figure(figsize=(8, 8))\n",
    "plt.scatter(C[:, 0].data, C[:, 1].data, s=200)\n",
    "for i in range(C.shape[0]):\n",
    "    plt.text(C[i, 0].item(), C[i, 1].item(), itos[i], ha='center', va='center', color='white')\n",
    "plt.grid('minor')"
   ]
  },
  {
   "cell_type": "code",
   "execution_count": null,
   "id": "f4a50474",
   "metadata": {},
   "outputs": [],
   "source": []
  }
 ],
 "metadata": {
  "kernelspec": {
   "display_name": "Python 3 (ipykernel)",
   "language": "python",
   "name": "python3"
  },
  "language_info": {
   "codemirror_mode": {
    "name": "ipython",
    "version": 3
   },
   "file_extension": ".py",
   "mimetype": "text/x-python",
   "name": "python",
   "nbconvert_exporter": "python",
   "pygments_lexer": "ipython3",
   "version": "3.8.15"
  }
 },
 "nbformat": 4,
 "nbformat_minor": 5
}
